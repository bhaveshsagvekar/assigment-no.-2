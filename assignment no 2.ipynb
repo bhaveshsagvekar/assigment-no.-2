{
 "cells": [
  {
   "cell_type": "code",
   "execution_count": 1,
   "id": "71c62dc1-612f-44af-b45a-6edc3d71089b",
   "metadata": {},
   "outputs": [
    {
     "name": "stdout",
     "output_type": "stream",
     "text": [
      "comments\n"
     ]
    }
   ],
   "source": [
    "# there are three types of comments\n",
    "print(\"comments\")"
   ]
  },
  {
   "cell_type": "code",
   "execution_count": 2,
   "id": "b1ca8b88-6e3a-43b6-bdf5-ae7460fe776f",
   "metadata": {},
   "outputs": [
    {
     "name": "stdout",
     "output_type": "stream",
     "text": [
      "types of comment\n"
     ]
    }
   ],
   "source": [
    "#singleline comments\n",
    "#multiline comments\n",
    "#docstring comments\n",
    "print(\"types of comment\")"
   ]
  },
  {
   "cell_type": "code",
   "execution_count": 7,
   "id": "c62de9f7-ecea-451a-b3c2-24898bfb7d4f",
   "metadata": {},
   "outputs": [
    {
     "name": "stdout",
     "output_type": "stream",
     "text": [
      "single line string literals\n"
     ]
    }
   ],
   "source": [
    "'single line commnets using string literals'\n",
    "print(\"single line string literals\")"
   ]
  },
  {
   "cell_type": "code",
   "execution_count": 5,
   "id": "63b94535-6580-4844-9ed8-610d37c77520",
   "metadata": {},
   "outputs": [
    {
     "name": "stdout",
     "output_type": "stream",
     "text": [
      "string literals\n"
     ]
    }
   ],
   "source": [
    "\"\"\"multiline string commnets\"\"\"\n",
    "print(\"string literals\")"
   ]
  },
  {
   "cell_type": "code",
   "execution_count": 14,
   "id": "aae8c94d-5b9f-4867-984d-d42066a82932",
   "metadata": {},
   "outputs": [
    {
     "ename": "SyntaxError",
     "evalue": "invalid syntax (1031748327.py, line 1)",
     "output_type": "error",
     "traceback": [
      "\u001b[0;36m  Cell \u001b[0;32mIn[14], line 1\u001b[0;36m\u001b[0m\n\u001b[0;31m    def multiply(a*b):\u001b[0m\n\u001b[0m                  ^\u001b[0m\n\u001b[0;31mSyntaxError\u001b[0m\u001b[0;31m:\u001b[0m invalid syntax\n"
     ]
    }
   ],
   "source": [
    "\n",
    "def multiply(a*b):\n",
    "   \"\"\"multiply the value of a and b\"\"\"\n",
    "    return a*b\n",
    "\n",
    "#print the docstring of multiply function\n",
    "print(multiply.__doc__)"
   ]
  },
  {
   "cell_type": "code",
   "execution_count": 1,
   "id": "c33acbc4-1ab1-4142-83a8-5827d2a01eb5",
   "metadata": {},
   "outputs": [
    {
     "name": "stdout",
     "output_type": "stream",
     "text": [
      "10\n"
     ]
    }
   ],
   "source": [
    "\"\"\"variables means reserve a memory location to store value\"\"\"\n",
    "\"\"\"variables starts with any alphabets\"\"\"\n",
    "x=10\n",
    "print(x)"
   ]
  },
  {
   "cell_type": "code",
   "execution_count": 3,
   "id": "2759df98-24ab-41af-960e-34e940ac407d",
   "metadata": {},
   "outputs": [
    {
     "name": "stdout",
     "output_type": "stream",
     "text": [
      "pwskills\n"
     ]
    }
   ],
   "source": [
    "#to declare value to variable we use = sign to give value to valiable\n",
    "b=\"pwskills\"\n",
    "print(b)"
   ]
  },
  {
   "cell_type": "code",
   "execution_count": 4,
   "id": "ab28f8a4-4cb0-4d38-b27d-d4a77c00e580",
   "metadata": {},
   "outputs": [],
   "source": [
    "p=12\n",
    "\n",
    "\n"
   ]
  },
  {
   "cell_type": "code",
   "execution_count": 5,
   "id": "8678c0ec-120f-42c2-aad7-a0f21da48c19",
   "metadata": {},
   "outputs": [
    {
     "data": {
      "text/plain": [
       "12"
      ]
     },
     "execution_count": 5,
     "metadata": {},
     "output_type": "execute_result"
    }
   ],
   "source": [
    "p"
   ]
  },
  {
   "cell_type": "code",
   "execution_count": 7,
   "id": "3fe4cc82-7f19-4658-8864-cd2ad69720ee",
   "metadata": {},
   "outputs": [
    {
     "data": {
      "text/plain": [
       "'12'"
      ]
     },
     "execution_count": 7,
     "metadata": {},
     "output_type": "execute_result"
    }
   ],
   "source": [
    "str(p)"
   ]
  },
  {
   "cell_type": "code",
   "execution_count": 8,
   "id": "2f162776-27bd-4c21-9ead-70b6099f77b3",
   "metadata": {},
   "outputs": [],
   "source": [
    "my_list=[1,2,3,4,5]\n"
   ]
  },
  {
   "cell_type": "code",
   "execution_count": 10,
   "id": "0c5a827d-222c-466c-be6a-7146de799356",
   "metadata": {},
   "outputs": [
    {
     "data": {
      "text/plain": [
       "[2, 3]"
      ]
     },
     "execution_count": 10,
     "metadata": {},
     "output_type": "execute_result"
    }
   ],
   "source": [
    "my_list[1:3]"
   ]
  },
  {
   "cell_type": "code",
   "execution_count": 15,
   "id": "6c94d3b6-68c5-4ff5-b1aa-3b387077b2ac",
   "metadata": {},
   "outputs": [],
   "source": [
    "#mathematic complex numbers are represents by i but in python\n",
    "#complex numbers are represent by j  in python \n",
    "s=4+54j"
   ]
  },
  {
   "cell_type": "code",
   "execution_count": 13,
   "id": "a4501521-e2d0-499a-a7f2-485887b21e71",
   "metadata": {},
   "outputs": [
    {
     "data": {
      "text/plain": [
       "complex"
      ]
     },
     "execution_count": 13,
     "metadata": {},
     "output_type": "execute_result"
    }
   ],
   "source": [
    "type(s)"
   ]
  },
  {
   "cell_type": "code",
   "execution_count": 17,
   "id": "664973f4-447f-40f3-b147-7c8ca4a577bb",
   "metadata": {},
   "outputs": [
    {
     "name": "stdout",
     "output_type": "stream",
     "text": [
      "25\n"
     ]
    }
   ],
   "source": [
    "#variable name is age\n",
    "age=25\n",
    "print(age)"
   ]
  },
  {
   "cell_type": "code",
   "execution_count": 23,
   "id": "a1302a9f-db88-41c2-976a-c8a428ed8d6f",
   "metadata": {},
   "outputs": [],
   "source": [
    "price=9.99\n"
   ]
  },
  {
   "cell_type": "code",
   "execution_count": 24,
   "id": "78ab228d-86f1-4ffa-b439-a16ad5dfce32",
   "metadata": {},
   "outputs": [
    {
     "data": {
      "text/plain": [
       "9.99"
      ]
     },
     "execution_count": 24,
     "metadata": {},
     "output_type": "execute_result"
    }
   ],
   "source": [
    "price"
   ]
  },
  {
   "cell_type": "code",
   "execution_count": 26,
   "id": "a1db4b30-c72c-433b-a328-f955ec09f600",
   "metadata": {},
   "outputs": [
    {
     "data": {
      "text/plain": [
       "float"
      ]
     },
     "execution_count": 26,
     "metadata": {},
     "output_type": "execute_result"
    }
   ],
   "source": [
    "type(price)\n"
   ]
  },
  {
   "cell_type": "code",
   "execution_count": 28,
   "id": "7ccd37dd-b704-4f36-b424-471d434dabf6",
   "metadata": {},
   "outputs": [
    {
     "name": "stdout",
     "output_type": "stream",
     "text": [
      "bhavesh ram sagvekar\n"
     ]
    }
   ],
   "source": [
    "name=\"bhavesh ram sagvekar\"\n",
    "print(name)"
   ]
  },
  {
   "cell_type": "code",
   "execution_count": 29,
   "id": "c46a3e99-eeab-47cd-9c5d-a829b58139b3",
   "metadata": {},
   "outputs": [],
   "source": [
    "s=\"hello, world!\""
   ]
  },
  {
   "cell_type": "code",
   "execution_count": 36,
   "id": "91c6ab8c-2da3-451f-a43a-430174d08cf1",
   "metadata": {},
   "outputs": [
    {
     "data": {
      "text/plain": [
       "'world'"
      ]
     },
     "execution_count": 36,
     "metadata": {},
     "output_type": "execute_result"
    }
   ],
   "source": [
    "s[7:12]"
   ]
  },
  {
   "cell_type": "code",
   "execution_count": null,
   "id": "3d42ac97-96a1-4f98-8d94-b4c5b0037fcc",
   "metadata": {},
   "outputs": [],
   "source": [
    "is_student=True"
   ]
  }
 ],
 "metadata": {
  "kernelspec": {
   "display_name": "Python 3 (ipykernel)",
   "language": "python",
   "name": "python3"
  },
  "language_info": {
   "codemirror_mode": {
    "name": "ipython",
    "version": 3
   },
   "file_extension": ".py",
   "mimetype": "text/x-python",
   "name": "python",
   "nbconvert_exporter": "python",
   "pygments_lexer": "ipython3",
   "version": "3.10.8"
  }
 },
 "nbformat": 4,
 "nbformat_minor": 5
}
